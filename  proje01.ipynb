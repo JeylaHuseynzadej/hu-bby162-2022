{
  "nbformat": 4,
  "nbformat_minor": 0,
  "metadata": {
    "colab": {
      "name": "Копия блокнота \" proje01.ipynb\"",
      "provenance": [],
      "authorship_tag": "ABX9TyPF0ZYRhLBbqg3TR+f3QagE",
      "include_colab_link": true
    },
    "kernelspec": {
      "name": "python3",
      "display_name": "Python 3"
    },
    "language_info": {
      "name": "python"
    }
  },
  "cells": [
    {
      "cell_type": "markdown",
      "metadata": {
        "id": "view-in-github",
        "colab_type": "text"
      },
      "source": [
        "<a href=\"https://colab.research.google.com/github/JeylaHuseynzadej/hu-bby162-2022/blob/main/%20proje01.ipynb\" target=\"_parent\"><img src=\"https://colab.research.google.com/assets/colab-badge.svg\" alt=\"Open In Colab\"/></a>"
      ]
    },
    {
      "cell_type": "code",
      "execution_count": null,
      "metadata": {
        "id": "-Hm9n5Qpj639"
      },
      "outputs": [],
      "source": [
        "\n",
        "liste = [\"tavşan\", \"marul\", \"leopar\", \"salam\", \"demir\", \"tahta\"]\n",
        "try:\n",
        "  secim = int(input(\"İndeks numarasınız giriniz: \"))\n",
        "  listeToplam = len(liste)\n",
        "  if secim < listeToplam:\n",
        "    print(liste[secim])\n",
        "  else:\n",
        "    print(\"İndeks dışı giriş..!\")  \n",
        "except ValueError:\n",
        "  print(\"girdiginiz numara deyil\")\n",
        "  "
      ]
    }
  ]
}