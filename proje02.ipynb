{
  "nbformat": 4,
  "nbformat_minor": 0,
  "metadata": {
    "colab": {
      "name": "proje02.ipynb",
      "provenance": [],
      "authorship_tag": "ABX9TyNFzvX+XywVAHAtZRJSCEYM",
      "include_colab_link": true
    },
    "kernelspec": {
      "name": "python3",
      "display_name": "Python 3"
    },
    "language_info": {
      "name": "python"
    }
  },
  "cells": [
    {
      "cell_type": "markdown",
      "metadata": {
        "id": "view-in-github",
        "colab_type": "text"
      },
      "source": [
        "<a href=\"https://colab.research.google.com/github/JeylaHuseynzadej/hu-bby162-2022/blob/main/proje02.ipynb\" target=\"_parent\"><img src=\"https://colab.research.google.com/assets/colab-badge.svg\" alt=\"Open In Colab\"/></a>"
      ]
    },
    {
      "cell_type": "code",
      "execution_count": null,
      "metadata": {
        "id": "hM21qjSMk3OM"
      },
      "outputs": [],
      "source": [
        "import random\n",
        "def adamas():\n",
        "\n",
        "  kelimeler = [\"terminator\" , \"avenger\" , \"mazen\" ]\n",
        "  sev1=[]\n",
        "  sev2=[]\n",
        "  sev3=[]\n",
        "  for i in kelimeler:\n",
        "    if(len(i)==10):\n",
        "      sev3.append(i)\n",
        "    if(len(i)==7):\n",
        "      sev2.append(i)\n",
        "    if(len(i)==5):\n",
        "      sev1.append(i)\n",
        "  \n",
        "  gecerliHarfler = 'abcdefghijklmnopqrstuvwxyz'\n",
        "  print(\"1-Basit Seviye\")\n",
        "  print(\"2-Orta Seviye\")\n",
        "  print(\"3-İleri Seviye\")\n",
        "  seviye=int(input(\"Seviyeni seciniz: \"))\n",
        "  \n",
        "  if(seviye==3):\n",
        "    toplamHak = 3\n",
        "    kelime=random.choice(sev3)\n",
        "  elif(seviye==2):\n",
        "    toplamHak=5\n",
        "    kelime=random.choice(sev2)\n",
        "  elif(seviye==1):\n",
        "    toplamHak=10\n",
        "    kelime=random.choice(sev1)\n",
        "  print(\"Filmin adını bulabilmek için \"+ str(toplamHak)+ \" hakkınız var\")  \n",
        "  finish=False\n",
        "  gb= []\n",
        "  \n",
        "  while finish==False and toplamHak>0:\n",
        "\n",
        "    ch=input(\"Please enter your guess: \")\n",
        "    if(len(ch)==1):\n",
        "      if(ch not in gecerliHarfler):\n",
        "        print(\"please check your input\")\n",
        "      elif(ch in gb):\n",
        "        print(\"you already guessed this letter\")\n",
        "      elif(ch not in kelime):\n",
        "        gb.append(ch)\n",
        "        toplamHak=toplamHak-1\n",
        "        print(\"\"+str(toplamHak)+\" hakkiniz kaldi\")\n",
        "        \n",
        "      elif(ch in kelime):\n",
        "        print(\"correct\")\n",
        "        gb.append(ch)\n",
        "      else:\n",
        "        print(\"something wrong... check your guess\")\n",
        "    asilk=\"\"\n",
        "    if(finish==False):\n",
        "      for x in kelime:\n",
        "        if(x in gb):\n",
        "          asilk=asilk+x\n",
        "        else:\n",
        "          asilk=asilk+'_'\n",
        "      print(asilk)\n",
        "      \n",
        "    if(asilk==kelime):\n",
        "      print(\"Congratulations\")\n",
        "      finish==True\n",
        "    elif(toplamHak==0):\n",
        "      print(\"sorry you lost\")\n",
        "\n",
        "adamas()"
      ]
    }
  ]
}