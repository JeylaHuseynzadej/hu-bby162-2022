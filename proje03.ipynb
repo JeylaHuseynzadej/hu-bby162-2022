{
  "nbformat": 4,
  "nbformat_minor": 0,
  "metadata": {
    "colab": {
      "name": "proje03.ipynb",
      "provenance": [],
      "authorship_tag": "ABX9TyO955elmT8+90RBGx+eCwRw",
      "include_colab_link": true
    },
    "kernelspec": {
      "name": "python3",
      "display_name": "Python 3"
    },
    "language_info": {
      "name": "python"
    }
  },
  "cells": [
    {
      "cell_type": "markdown",
      "metadata": {
        "id": "view-in-github",
        "colab_type": "text"
      },
      "source": [
        "<a href=\"https://colab.research.google.com/github/JeylaHuseynzadej/hu-bby162-2022/blob/main/proje03.ipynb\" target=\"_parent\"><img src=\"https://colab.research.google.com/assets/colab-badge.svg\" alt=\"Open In Colab\"/></a>"
      ]
    },
    {
      "cell_type": "code",
      "execution_count": null,
      "metadata": {
        "id": "8J2mtjkpllSh"
      },
      "outputs": [],
      "source": [
        "sorular = [\"Barcelona Ispaniya`nin bashkentidir. \" , \"Alanya, Antalyanin bir ilcesidir.\" , \"Her dogal sayi tamsayidir.\" , \"Birim hacimdeki madde miktarına yoğunluk denir.\" , \"Suyun kütlesi arttıkça yoğunluğu da artar\"]\n",
        "cevaplar = [\"d\" , \"d\" , \"d\" , \"d\" , \"y\" ]\n",
        "def testCalistir()\n",
        "  soruNo = 0\n",
        "  cevapNo = 0\n",
        "  puan = 0\n",
        "  for soru in sorular:\n",
        "   soruNo +=1\n",
        "    print(\"Soru\"+str(soruNo)+\": \" + soru)\n",
        "  cevap = input(\"d/y\")\n",
        "  if cevap == cevaplar[cevapNo]:\n",
        "    print(\"bildiniz!\")\n",
        "    puan +=1\n",
        "  else:\n",
        "    print(\"bilemediniz\")\n",
        "    cevapNo +=1\n",
        "    toplamPuan = int((puan/soruNo)*100)\n",
        "    print(\"Toplam puaniniz: \"+str(toplamPuan))\n",
        "    if toplamPuan >=60:\n",
        "      print(\"You win\")\n",
        "    else:\n",
        "      print(\"you loose\")\n",
        "      tekrar = input(\"do you wanna try again? [y/n]: \")\n",
        "      if tekrar == \"y\":\n",
        "        testCalistir()\n",
        "    else:\n",
        "      print(\"the end\")\n",
        "  testCalistir()"
      ]
    }
  ]
}