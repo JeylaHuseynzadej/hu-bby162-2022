{
  "nbformat": 4,
  "nbformat_minor": 0,
  "metadata": {
    "colab": {
      "name": "proje04.ipynb",
      "provenance": [],
      "collapsed_sections": [],
      "authorship_tag": "ABX9TyPvzN8KKIlJ1FBUMYVxe64O",
      "include_colab_link": true
    },
    "kernelspec": {
      "name": "python3",
      "display_name": "Python 3"
    },
    "language_info": {
      "name": "python"
    }
  },
  "cells": [
    {
      "cell_type": "markdown",
      "metadata": {
        "id": "view-in-github",
        "colab_type": "text"
      },
      "source": [
        "<a href=\"https://colab.research.google.com/github/JeylaHuseynzadej/hu-bby162-2022/blob/main/proje04.ipynb\" target=\"_parent\"><img src=\"https://colab.research.google.com/assets/colab-badge.svg\" alt=\"Open In Colab\"/></a>"
      ]
    },
    {
      "cell_type": "code",
      "execution_count": 10,
      "metadata": {
        "colab": {
          "base_uri": "https://localhost:8080/",
          "height": 530
        },
        "id": "nCWuqI3SMLFo",
        "outputId": "770a2dd0-03ab-4552-98ea-29eccd00fe32"
      },
      "outputs": [
        {
          "name": "stdout",
          "output_type": "stream",
          "text": [
            "Kütüphane Kataloğuna Hoşgeldiniz!\n",
            "1)Eseri Kaydet\n",
            "2)Eserleri Listele\n",
            "3)Çıkış Yap \n",
            "Lütfen seçmek istediğiniz işlevi rakkam olarak giriniz:1\n",
            "Eser Adı: Tutunamaynlar\n",
            "Yazar Adı: Oğuz Atay\n",
            "Yayınevi: Iletışım Yayınevı\n",
            "Basım Tarihi: 2020\n",
            "ISBN Numarası: 9789754700114\n"
          ]
        },
        {
          "output_type": "error",
          "ename": "FileNotFoundError",
          "evalue": "ignored",
          "traceback": [
            "\u001b[0;31m---------------------------------------------------------------------------\u001b[0m",
            "\u001b[0;31mFileNotFoundError\u001b[0m                         Traceback (most recent call last)",
            "\u001b[0;32m<ipython-input-10-44356dbae9de>\u001b[0m in \u001b[0;36m<module>\u001b[0;34m()\u001b[0m\n\u001b[1;32m     39\u001b[0m \u001b[0;34m\u001b[0m\u001b[0m\n\u001b[1;32m     40\u001b[0m     \u001b[0;32mif\u001b[0m \u001b[0msecimMenusu\u001b[0m \u001b[0;34m==\u001b[0m \u001b[0;36m1\u001b[0m \u001b[0;34m:\u001b[0m\u001b[0;34m\u001b[0m\u001b[0;34m\u001b[0m\u001b[0m\n\u001b[0;32m---> 41\u001b[0;31m         \u001b[0meserKaydet\u001b[0m\u001b[0;34m(\u001b[0m\u001b[0;34m)\u001b[0m\u001b[0;34m\u001b[0m\u001b[0;34m\u001b[0m\u001b[0m\n\u001b[0m\u001b[1;32m     42\u001b[0m     \u001b[0;32melif\u001b[0m \u001b[0msecimMenusu\u001b[0m \u001b[0;34m==\u001b[0m \u001b[0;36m2\u001b[0m \u001b[0;34m:\u001b[0m\u001b[0;34m\u001b[0m\u001b[0;34m\u001b[0m\u001b[0m\n\u001b[1;32m     43\u001b[0m         \u001b[0meserleriListele\u001b[0m\u001b[0;34m(\u001b[0m\u001b[0;34m)\u001b[0m\u001b[0;34m\u001b[0m\u001b[0;34m\u001b[0m\u001b[0m\n",
            "\u001b[0;32m<ipython-input-10-44356dbae9de>\u001b[0m in \u001b[0;36meserKaydet\u001b[0;34m()\u001b[0m\n\u001b[1;32m     17\u001b[0m   \u001b[0mbasimTarihi\u001b[0m \u001b[0;34m=\u001b[0m \u001b[0minput\u001b[0m\u001b[0;34m(\u001b[0m\u001b[0;34m\"Basım Tarihi: \"\u001b[0m\u001b[0;34m)\u001b[0m\u001b[0;34m\u001b[0m\u001b[0;34m\u001b[0m\u001b[0m\n\u001b[1;32m     18\u001b[0m   \u001b[0misbnNumarasi\u001b[0m \u001b[0;34m=\u001b[0m \u001b[0minput\u001b[0m\u001b[0;34m(\u001b[0m\u001b[0;34m\"ISBN Numarası: \"\u001b[0m\u001b[0;34m)\u001b[0m\u001b[0;34m\u001b[0m\u001b[0;34m\u001b[0m\u001b[0m\n\u001b[0;32m---> 19\u001b[0;31m   \u001b[0mf\u001b[0m \u001b[0;34m=\u001b[0m \u001b[0mopen\u001b[0m\u001b[0;34m(\u001b[0m\u001b[0mdosya\u001b[0m\u001b[0;34m,\u001b[0m\u001b[0;34m'a'\u001b[0m\u001b[0;34m)\u001b[0m\u001b[0;34m\u001b[0m\u001b[0;34m\u001b[0m\u001b[0m\n\u001b[0m\u001b[1;32m     20\u001b[0m   \u001b[0mf\u001b[0m\u001b[0;34m.\u001b[0m\u001b[0mwrite\u001b[0m\u001b[0;34m(\u001b[0m\u001b[0meserAdi\u001b[0m \u001b[0;34m+\u001b[0m \u001b[0;34m\",\"\u001b[0m \u001b[0;34m+\u001b[0m \u001b[0myazarAdi\u001b[0m \u001b[0;34m+\u001b[0m \u001b[0;34m\",\"\u001b[0m \u001b[0;34m+\u001b[0m \u001b[0myayinevi\u001b[0m \u001b[0;34m+\u001b[0m \u001b[0;34m\",\"\u001b[0m \u001b[0;34m+\u001b[0m \u001b[0mbasimTarihi\u001b[0m \u001b[0;34m+\u001b[0m \u001b[0;34m\",\"\u001b[0m \u001b[0;34m+\u001b[0m \u001b[0misbnNumarasi\u001b[0m \u001b[0;34m+\u001b[0m \u001b[0;34m'\\n'\u001b[0m \u001b[0;34m)\u001b[0m\u001b[0;34m\u001b[0m\u001b[0;34m\u001b[0m\u001b[0m\n\u001b[1;32m     21\u001b[0m   \u001b[0mprint\u001b[0m\u001b[0;34m(\u001b[0m\u001b[0;34m\"Yeni eser başarıyla kayıt edildi!\"\u001b[0m\u001b[0;34m)\u001b[0m\u001b[0;34m\u001b[0m\u001b[0;34m\u001b[0m\u001b[0m\n",
            "\u001b[0;31mFileNotFoundError\u001b[0m: [Errno 2] No such file or directory: 'https://colab.research.google.com/drive/1mwzwkC6sDJiP1UV517X0SAS2WXfwXCBt?usp=sharing'"
          ]
        }
      ],
      "source": [
        "#Kütüphane Kataloğu\n",
        "# veritabani:https://colab.research.google.com/drive/1mwzwkC6sDJiP1UV517X0SAS2WXfwXCBt?usp=sharing\n",
        "\n",
        "dosya = \"https://colab.research.google.com/drive/1mwzwkC6sDJiP1UV517X0SAS2WXfwXCBt?usp=sharing\"\n",
        "\n",
        "def eserleriListele():                    \n",
        "  f = open(dosya, 'r')\n",
        "  for line in f.readlines():\n",
        "    print(line)\n",
        "  f.close()\n",
        "\n",
        "\n",
        "def eserKaydet():\n",
        "  eserAdi = input(\"Eser Adı: \")\n",
        "  yazarAdi = input(\"Yazar Adı: \")\n",
        "  yayinevi = input(\"Yayınevi: \")\n",
        "  basimTarihi = input(\"Basım Tarihi: \")\n",
        "  isbnNumarasi = input(\"ISBN Numarası: \")\n",
        "  f = open(dosya,'a')\n",
        "  f.write(eserAdi + \",\" + yazarAdi + \",\" + yayinevi + \",\" + basimTarihi + \",\" + isbnNumarasi + '\\n' )\n",
        "  print(\"Yeni eser başarıyla kayıt edildi!\")\n",
        "  f.close\n",
        "\n",
        "\n",
        "def cikisYap():\n",
        "  f = open(dosya, 'r')\n",
        "  print(\"Çıkış yapılıyor...\")\n",
        "  f.close\n",
        "\n",
        "\n",
        "secimMenusu = 0\n",
        "while not secimMenusu == 4 :\n",
        "    print(\"Kütüphane Kataloğuna Hoşgeldiniz!\")\n",
        "    print(\"1)Eseri Kaydet\")\n",
        "    print(\"2)Eserleri Listele\")\n",
        "    print(\"3)Çıkış Yap \")\n",
        "    secimMenusu = int (input(\"Lütfen seçmek istediğiniz işlevi rakkam olarak giriniz:\")) \n",
        "                             \n",
        "    \n",
        "    if secimMenusu == 1 :\n",
        "        eserKaydet()\n",
        "    elif secimMenusu == 2 :\n",
        "        eserleriListele()\n",
        "    elif secimMenusu == 3 :  \n",
        "        print(\"Çıkış yapılıyor lütfen bekleyin\")\n",
        "        break\n",
        "    else:\n",
        "      print(\"Lütfen seçmek istediğiniz işlevi rakkam olarak giriniz:\")\n",
        "      continue"
      ]
    }
  ]
}